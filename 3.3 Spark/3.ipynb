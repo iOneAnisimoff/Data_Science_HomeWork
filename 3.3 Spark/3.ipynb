{
  "nbformat": 4,
  "nbformat_minor": 0,
  "metadata": {
    "colab": {
      "provenance": []
    },
    "kernelspec": {
      "name": "python3",
      "display_name": "Python 3"
    },
    "language_info": {
      "name": "python"
    }
  },
  "cells": [
    {
      "cell_type": "code",
      "execution_count": 1,
      "metadata": {
        "id": "Ku9a5cHGSSTf"
      },
      "outputs": [],
      "source": [
        "!apt-get install openjdk-11-jdk-headless -qq > /dev/null\n"
      ]
    },
    {
      "cell_type": "code",
      "source": [
        "!wget -q https://dlcdn.apache.org/spark/spark-3.3.1/spark-3.3.1-bin-hadoop3.tgz\n",
        "!tar xf spark-3.3.1-bin-hadoop3.tgz"
      ],
      "metadata": {
        "id": "dvWitPgd4mPE"
      },
      "execution_count": 2,
      "outputs": []
    },
    {
      "cell_type": "code",
      "source": [
        "import os\n",
        "os.environ[\"JAVA_HOME\"] = \"/usr/lib/jvm/java-11-openjdk-amd64\"\n",
        "os.environ[\"SPARK_HOME\"] = \"/content/spark-3.3.1-bin-hadoop3\""
      ],
      "metadata": {
        "id": "gOnNl07Z5A-U"
      },
      "execution_count": 3,
      "outputs": []
    },
    {
      "cell_type": "code",
      "source": [
        "!pip install findspark"
      ],
      "metadata": {
        "id": "uhNw0qd25TZv"
      },
      "execution_count": null,
      "outputs": []
    },
    {
      "cell_type": "code",
      "source": [
        "import findspark\n",
        "findspark.init()\n",
        "from pyspark.sql import SparkSession\n",
        "from pyspark.sql.types import StructType,StructField, \\\n",
        "                              StringType, IntegerType,BooleanType, \\\n",
        "                              LongType, DateType\n",
        "import numpy as np\n",
        "import pyspark.sql.functions as F\n",
        "from pyspark.sql.functions import when\n",
        "import datetime\n",
        "from pyspark.sql.window import Window"
      ],
      "metadata": {
        "id": "raz5QrHc5blQ"
      },
      "execution_count": 150,
      "outputs": []
    },
    {
      "cell_type": "code",
      "source": [
        "spark = SparkSession.builder\\\n",
        "                    .master(\"local[*]\")\\\n",
        "                    .getOrCreate()"
      ],
      "metadata": {
        "id": "mn48R2o6aNzz"
      },
      "execution_count": 6,
      "outputs": []
    },
    {
      "cell_type": "code",
      "source": [
        "schema_web = StructType([ \n",
        "                StructField(\"id\", IntegerType(), True),\n",
        "                StructField(\"timestamp\", LongType(), True),\n",
        "                StructField(\"type\", StringType(), True),\n",
        "                StructField(\"page_id\", IntegerType(), True),\n",
        "                StructField(\"tag\", StringType(), True),\n",
        "                StructField(\"sign\", BooleanType(), True)\n",
        "])\n",
        "\n",
        "schema_lk = StructType([\n",
        "                StructField(\"id\", IntegerType(), True),\n",
        "                StructField(\"user_id\", IntegerType(), True),\n",
        "                StructField(\"fio\", StructType([\n",
        "                      StructField('lastname', StringType(), True),\n",
        "                      StructField('firstname', StringType(), True),\n",
        "                      StructField('patronymic', StringType(), True)])),\n",
        "                StructField(\"dob\", DateType(), True),\n",
        "                StructField(\"doc\", DateType(), True)\n",
        "])"
      ],
      "metadata": {
        "id": "b1V2KTd85zD5"
      },
      "execution_count": 303,
      "outputs": []
    },
    {
      "cell_type": "markdown",
      "source": [
        "Generate Data_web"
      ],
      "metadata": {
        "id": "xE6gK39AqZ40"
      }
    },
    {
      "cell_type": "code",
      "source": [
        "id = [int(x) for x in np.random.randint(1, 11, 1000)]\n",
        "timestamp = [int(x) for x in np.random.randint(1670198400 , 1670803200, 1000)]\n",
        "Type = [str(x) for x in np.random.choice([\"visit\", \"click\", \"scroll\", \"move\"], size=1000)]\n",
        "page_id = [int(x) for x in np.random.randint(100, 111, 1000)]\n",
        "tag = []\n",
        "\n",
        "for i in page_id:\n",
        "  if  i in [100,101]:\n",
        "     tag.append(\"medicine\"),\n",
        "  elif  i in [102,103,104]:\n",
        "     tag.append(\"sport\"),\n",
        "  elif  i in [105,106,107]:\n",
        "     tag.append(\"finance\"),  \n",
        "  else:\n",
        "     tag.append(\"politic\")\n",
        "\n",
        "sign = []\n",
        "\n",
        "for i in id:\n",
        "  if  i in [1,3,5,7]:\n",
        "     sign.append(True),\n",
        "  else:  \n",
        "     sign.append(False) \n",
        "\n"
      ],
      "metadata": {
        "id": "vkQw2mwbnZH_"
      },
      "execution_count": 304,
      "outputs": []
    },
    {
      "cell_type": "code",
      "source": [
        "data_lk = [\n",
        "    (101, 1, (\"Иванов\", \"Иван\", \"Иванович\"), datetime.datetime(1990, 7, 5), datetime.datetime(2016, 8, 1)),\n",
        "    (102, 3, (\"Александрова\", \"Александра\", \"Александровна\"), datetime.datetime(1995, 1, 22), datetime.datetime(2017, 10, 7)), \n",
        "    (103, 5, (\"Петров\", \"Петр\", \"Петрович\"), datetime.datetime(1999, 9, 11), datetime.datetime(2016, 10, 16)),\n",
        "    (104, 7, (\"Сидоров\", \"Антон\", \"Николаевич\"), datetime.datetime(1993, 3, 10), datetime.datetime(2018, 2, 22)),\n",
        "]"
      ],
      "metadata": {
        "id": "doqhJHhGqu02"
      },
      "execution_count": 308,
      "outputs": []
    },
    {
      "cell_type": "code",
      "source": [
        "df_web = spark.createDataFrame(list(zip(id, timestamp, Type, page_id, tag, sign)), schema_web)\n",
        "df_lk = spark.createDataFrame(data_lk, schema_lk)"
      ],
      "metadata": {
        "id": "kbWUtOJUEYmF"
      },
      "execution_count": 309,
      "outputs": []
    },
    {
      "cell_type": "code",
      "source": [
        "df_web.groupBy(\"id\")\\\n",
        "      .agg(F.count(\"*\").alias(\"event_cnt\"))\\\n",
        "      .orderBy(\"event_cnt\", ascending = False)\\\n",
        "      .show(5)"
      ],
      "metadata": {
        "colab": {
          "base_uri": "https://localhost:8080/"
        },
        "id": "HgwkRdvJXYPC",
        "outputId": "68a5c8e7-f0e3-4d3d-866d-670ab7b0126f"
      },
      "execution_count": 312,
      "outputs": [
        {
          "output_type": "stream",
          "name": "stdout",
          "text": [
            "+---+---------+\n",
            "| id|event_cnt|\n",
            "+---+---------+\n",
            "|  9|      118|\n",
            "|  3|      106|\n",
            "|  6|      104|\n",
            "|  4|      104|\n",
            "| 10|      103|\n",
            "+---+---------+\n",
            "only showing top 5 rows\n",
            "\n"
          ]
        }
      ]
    },
    {
      "cell_type": "code",
      "source": [
        "df_web.groupBy(\"sign\").agg(F.countDistinct(\"id\").alias('count_users'))\\\n",
        "                      .withColumn('percent', F.col('count_users')*100/F.sum('count_users')\\\n",
        "                                              .over(Window.partitionBy()))\\\n",
        "                      .show()"
      ],
      "metadata": {
        "colab": {
          "base_uri": "https://localhost:8080/"
        },
        "id": "zXM4FEn086kB",
        "outputId": "66e28f58-3d13-45cd-c461-d60f6cf27e5a"
      },
      "execution_count": 313,
      "outputs": [
        {
          "output_type": "stream",
          "name": "stdout",
          "text": [
            "+-----+-----------+-------+\n",
            "| sign|count_users|percent|\n",
            "+-----+-----------+-------+\n",
            "| true|          4|   40.0|\n",
            "|false|          6|   60.0|\n",
            "+-----+-----------+-------+\n",
            "\n"
          ]
        }
      ]
    },
    {
      "cell_type": "code",
      "source": [
        "df_web.groupBy(\"sign\").agg(F.countDistinct(\"id\").alias('count_users'))\\\n",
        "                      .withColumn('percent', F.col('count_users')*100/F.sum('count_users')\\\n",
        "                                              .over(Window.partitionBy()))\\\n",
        "                      .filter(df_web.sign == True)\\\n",
        "                      .show()"
      ],
      "metadata": {
        "colab": {
          "base_uri": "https://localhost:8080/"
        },
        "id": "C52FsRGdGwvC",
        "outputId": "ffed0574-6a24-4e61-e6cf-e2288d7a0a42"
      },
      "execution_count": 314,
      "outputs": [
        {
          "output_type": "stream",
          "name": "stdout",
          "text": [
            "+----+-----------+-------+\n",
            "|sign|count_users|percent|\n",
            "+----+-----------+-------+\n",
            "|true|          4|   40.0|\n",
            "+----+-----------+-------+\n",
            "\n"
          ]
        }
      ]
    },
    {
      "cell_type": "code",
      "source": [
        "df_web.groupBy(\"page_id\", \"type\")\\\n",
        "      .agg(F.count(\"*\").alias(\"click_cnt\"))\\\n",
        "      .orderBy(\"click_cnt\", ascending = False)\\\n",
        "      .filter(df_web.type == 'click')\\\n",
        "      .show(5)"
      ],
      "metadata": {
        "colab": {
          "base_uri": "https://localhost:8080/"
        },
        "id": "5PCG-z3cL3H0",
        "outputId": "6f646ab9-0f98-4f7b-9d87-82d3925e35a1"
      },
      "execution_count": 315,
      "outputs": [
        {
          "output_type": "stream",
          "name": "stdout",
          "text": [
            "+-------+-----+---------+\n",
            "|page_id| type|click_cnt|\n",
            "+-------+-----+---------+\n",
            "|    106|click|       33|\n",
            "|    108|click|       32|\n",
            "|    109|click|       29|\n",
            "|    105|click|       28|\n",
            "|    103|click|       27|\n",
            "+-------+-----+---------+\n",
            "only showing top 5 rows\n",
            "\n"
          ]
        }
      ]
    },
    {
      "cell_type": "code",
      "execution_count": 316,
      "metadata": {
        "id": "d4c4466f"
      },
      "outputs": [],
      "source": [
        "df_web = df_web.select(*[i for i in df_web.columns if i != \"timestamp\"],\n",
        "                    F.from_unixtime(\"timestamp\").alias(\"event_time\"))\n",
        "\n",
        "df_web = df_web.withColumn(\"new\", F.floor(F.hour(\"event_time\") / F.lit(4)))\n",
        "\n",
        "df_web = df_web.withColumn(\"time_period\", when(df_web.new == \"0\",\"0-4\")\\\n",
        "                                         .when(df_web.new == \"1\",\"4-8\")\\\n",
        "                                         .when(df_web.new == \"2\",\"8-12\")\\\n",
        "                                         .when(df_web.new == \"3\",\"12-16\")\\\n",
        "                                         .when(df_web.new == \"4\",\"16-20\")\\\n",
        "                                         .when(df_web.new == \"5\",\"20-24\")\\\n",
        "                                         )\n",
        "df_web = df_web.drop(\"new\")"
      ]
    },
    {
      "cell_type": "code",
      "source": [
        "df_web.groupBy(\"time_period\")\\\n",
        "      .agg(F.count(\"*\").alias(\"activity\"))\\\n",
        "      .orderBy(\"activity\", ascending = False)\\\n",
        "      .show()"
      ],
      "metadata": {
        "colab": {
          "base_uri": "https://localhost:8080/"
        },
        "id": "C1Cs9pXJ2lcb",
        "outputId": "e3640ee9-5ede-4bc2-bfa8-4216dd27f93b"
      },
      "execution_count": 317,
      "outputs": [
        {
          "output_type": "stream",
          "name": "stdout",
          "text": [
            "+-----------+--------+\n",
            "|time_period|activity|\n",
            "+-----------+--------+\n",
            "|       8-12|     186|\n",
            "|        0-4|     172|\n",
            "|      12-16|     170|\n",
            "|        4-8|     170|\n",
            "|      20-24|     166|\n",
            "|      16-20|     136|\n",
            "+-----------+--------+\n",
            "\n"
          ]
        }
      ]
    },
    {
      "cell_type": "code",
      "source": [
        "df_all = df_lk.alias(\"lk\").join(df_web.alias(\"web\"),\n",
        "                                    on = [F.col(\"lk.user_id\") == F.col(\"web.id\")],\n",
        "                                    how = \"left\")"
      ],
      "metadata": {
        "id": "lfY1G7zot4sB"
      },
      "execution_count": 318,
      "outputs": []
    },
    {
      "cell_type": "code",
      "source": [
        "df_all.select('fio.lastname', 'tag').where(F.col('tag') == \"sport\").distinct().show()"
      ],
      "metadata": {
        "colab": {
          "base_uri": "https://localhost:8080/"
        },
        "id": "Heto574Q67q2",
        "outputId": "e3e4bb4f-80cf-4291-dfaa-4c0a58332910"
      },
      "execution_count": 344,
      "outputs": [
        {
          "output_type": "stream",
          "name": "stdout",
          "text": [
            "+------------+-----+\n",
            "|    lastname|  tag|\n",
            "+------------+-----+\n",
            "|      Петров|sport|\n",
            "|Александрова|sport|\n",
            "|      Иванов|sport|\n",
            "|     Сидоров|sport|\n",
            "+------------+-----+\n",
            "\n"
          ]
        }
      ]
    }
  ]
}